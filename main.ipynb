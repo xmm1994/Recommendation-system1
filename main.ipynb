{
 "cells": [
  {
   "cell_type": "markdown",
   "metadata": {},
   "source": [
    "# UserCF"
   ]
  },
  {
   "cell_type": "markdown",
   "metadata": {},
   "source": [
    "## 1.基础算法"
   ]
  },
  {
   "cell_type": "code",
   "execution_count": null,
   "metadata": {
    "collapsed": true
   },
   "outputs": [],
   "source": [
    "import pandas as pd\n",
    "import math\n",
    "from sklearn.model_selection import train_test_split\n",
    "from collections import defaultdict\n",
    "from data.movielens.data_reader import data_reader\n",
    "from algorithm.usercf import UserCF\n",
    "from util.metric import recall, precision, coverage, popularity"
   ]
  },
  {
   "cell_type": "code",
   "execution_count": null,
   "metadata": {
    "collapsed": true
   },
   "outputs": [],
   "source": [
    "train_user_items, test_user_items  = data_reader()"
   ]
  },
  {
   "cell_type": "code",
   "execution_count": null,
   "metadata": {
    "collapsed": true
   },
   "outputs": [],
   "source": [
    "user_cf = UserCF(train_user_items)"
   ]
  },
  {
   "cell_type": "code",
   "execution_count": null,
   "metadata": {
    "collapsed": true
   },
   "outputs": [],
   "source": [
    "user_cf.user_similarity()"
   ]
  },
  {
   "cell_type": "code",
   "execution_count": null,
   "metadata": {
    "collapsed": true
   },
   "outputs": [],
   "source": [
    "N = 30 #给每个用户推荐商品的数目\n",
    "K = [5, 10, 20, 40, 80, 160]\n",
    "recomments = []"
   ]
  },
  {
   "cell_type": "code",
   "execution_count": null,
   "metadata": {
    "collapsed": true
   },
   "outputs": [],
   "source": [
    "for k in K:\n",
    "    recomments.append(user_cf.recomment_users(set(test_user_items.keys()), k, N))"
   ]
  },
  {
   "cell_type": "code",
   "execution_count": null,
   "metadata": {
    "collapsed": true
   },
   "outputs": [],
   "source": [
    "def evaluate(k):\n",
    "    recall_k = round(recall(recomments[k], test_user_items), 4)\n",
    "    precision_k = round(precision(recomments[k], test_user_items), 4)\n",
    "    coverage_k = round(coverage(recomments[k], test_user_items), 4)\n",
    "    popularity_k = round(popularity(recomments[k], test_user_items), 4)\n",
    "    \n",
    "    return recall_k, precision_k, coverage_k, popularity_k"
   ]
  },
  {
   "cell_type": "code",
   "execution_count": null,
   "metadata": {
    "collapsed": true
   },
   "outputs": [],
   "source": [
    "evals = list()\n",
    "for i in range(len(K)):\n",
    "    evals.append(evaluate(i))"
   ]
  },
  {
   "cell_type": "code",
   "execution_count": null,
   "metadata": {
    "collapsed": true
   },
   "outputs": [],
   "source": [
    "pd.DataFrame(data=evals,\n",
    "             columns=['recall', 'precision', 'coverage', 'popularity'],\n",
    "             index = K)"
   ]
  },
  {
   "cell_type": "markdown",
   "metadata": {},
   "source": [
    "## 2.使用改进后的用户相似度计算公式"
   ]
  },
  {
   "cell_type": "code",
   "execution_count": null,
   "metadata": {
    "collapsed": true
   },
   "outputs": [],
   "source": [
    "from algorithm.usercf1 import UserCF\n",
    "\n",
    "user_cf = UserCF(train_user_items)\n",
    "user_cf.user_similarity()\n",
    "N = 30 #给每个用户推荐商品的数目\n",
    "K = [5, 10, 20, 40, 80, 160]\n",
    "recomments = []\n",
    "for k in K:\n",
    "    recomments.append(user_cf.recomment_users(set(test_user_items.keys()), k, N))\n",
    "evals = list()\n",
    "for i in range(len(K)):\n",
    "    evals.append(evaluate(i))\n",
    "pd.DataFrame(data=evals,\n",
    "             columns=['recall', 'precision', 'coverage', 'popularity'],\n",
    "             index = K)"
   ]
  },
  {
   "cell_type": "markdown",
   "metadata": {},
   "source": [
    "# ItemCF"
   ]
  },
  {
   "cell_type": "markdown",
   "metadata": {},
   "source": [
    "## 1.基础算法"
   ]
  },
  {
   "cell_type": "code",
   "execution_count": null,
   "metadata": {
    "collapsed": true
   },
   "outputs": [],
   "source": [
    "from algorithm.itemcf import ItemCF\n",
    "\n",
    "train_item_users, test_user_items  = data_reader(is_user_items = False)\n",
    "item_cf = ItemCF(train_item_users)\n",
    "item_cf.item_similarity()\n",
    "N = 30 #给每个用户推荐商品的数目\n",
    "K = [5, 10, 20, 40, 80, 160]\n",
    "recomments = []\n",
    "for k in K:\n",
    "    recomments.append(item_cf.recomment_users(set(test_user_items.keys()), k, N))\n",
    "evals = list()"
   ]
  },
  {
   "cell_type": "code",
   "execution_count": null,
   "metadata": {
    "collapsed": true
   },
   "outputs": [],
   "source": [
    "for i in range(len(K)):\n",
    "    evals.append(evaluate(i))\n",
    "pd.DataFrame(data=evals,\n",
    "             columns=['recall', 'precision', 'coverage', 'popularity'],\n",
    "             index = K)"
   ]
  },
  {
   "cell_type": "markdown",
   "metadata": {
    "collapsed": true
   },
   "source": [
    "## 2.IUF相似度"
   ]
  },
  {
   "cell_type": "code",
   "execution_count": null,
   "metadata": {
    "collapsed": true
   },
   "outputs": [],
   "source": [
    "from algorithm.itemcf1 import ItemCF\n",
    "\n",
    "train_item_users, test_user_items  = data_reader(is_user_items = False)\n",
    "item_cf = ItemCF(train_item_users)\n",
    "item_cf.item_similarity()\n",
    "N = 30 #给每个用户推荐商品的数目\n",
    "K = [5, 10, 20, 40, 80, 160]\n",
    "recomments = []\n",
    "for k in K:\n",
    "    recomments.append(item_cf.recomment_users(set(test_user_items.keys()), k, N))\n",
    "evals = list()\n",
    "for i in range(len(K)):\n",
    "    evals.append(evaluate(i))\n",
    "pd.DataFrame(data=evals,\n",
    "             columns=['recall', 'precision', 'coverage', 'popularity'],\n",
    "             index = K)"
   ]
  },
  {
   "cell_type": "markdown",
   "metadata": {},
   "source": [
    "## 3.对每个物品和其它物品的相似度归一化"
   ]
  },
  {
   "cell_type": "code",
   "execution_count": null,
   "metadata": {
    "collapsed": true
   },
   "outputs": [],
   "source": [
    "from algorithm.itemcfnorm import ItemCF\n",
    "\n",
    "train_item_users, test_user_items  = data_reader(is_user_items = False)\n",
    "item_cf = ItemCF(train_item_users)\n",
    "item_cf.item_similarity()\n",
    "N = 30 #给每个用户推荐商品的数目\n",
    "K = [5, 10, 20, 40, 80, 160]\n",
    "recomments = []\n",
    "for k in K:\n",
    "    recomments.append(item_cf.recomment_users(set(test_user_items.keys()), k, N))\n",
    "evals = list()\n",
    "for i in range(len(K)):\n",
    "    evals.append(evaluate(i))\n",
    "pd.DataFrame(data=evals,\n",
    "             columns=['recall', 'precision', 'coverage', 'popularity'],\n",
    "             index = K)"
   ]
  },
  {
   "cell_type": "markdown",
   "metadata": {},
   "source": [
    "# 隐语义模型"
   ]
  },
  {
   "cell_type": "code",
   "execution_count": null,
   "metadata": {
    "collapsed": true
   },
   "outputs": [],
   "source": [
    "import pandas as pd\n",
    "import numpy as np\n",
    "import random\n",
    "from sklearn.model_selection import train_test_split\n",
    "from collections import defaultdict\n",
    "from algorithm.lfm import LFM\n",
    "from util.metric import recall, precision, coverage, popularity"
   ]
  },
  {
   "cell_type": "code",
   "execution_count": null,
   "metadata": {},
   "outputs": [],
   "source": [
    "lfm = LFM(k=10, regularization_rate=0.01, learning_rate=0.02)\n",
    "print('build matrix: ')\n",
    "lfm.build_matrix()\n",
    "print('start train:')\n",
    "lfm.train(epoches=30)"
   ]
  },
  {
   "cell_type": "code",
   "execution_count": null,
   "metadata": {
    "collapsed": true
   },
   "outputs": [],
   "source": [
    "recomments = list()\n",
    "recomments.append(lfm.recomment_users(N = 30))"
   ]
  },
  {
   "cell_type": "code",
   "execution_count": null,
   "metadata": {
    "collapsed": true
   },
   "outputs": [],
   "source": [
    "def evaluate(k, test):\n",
    "    recall_k = round(recall(recomments[k], test), 4)\n",
    "    precision_k = round(precision(recomments[k], test), 4)\n",
    "    coverage_k = round(coverage(recomments[k], test), 4)\n",
    "    popularity_k = round(popularity(recomments[k], test), 4)\n",
    "    \n",
    "    return recall_k, precision_k, coverage_k, popularity_k"
   ]
  },
  {
   "cell_type": "code",
   "execution_count": null,
   "metadata": {
    "collapsed": true
   },
   "outputs": [],
   "source": [
    "evals = list()\n",
    "evals.append(evaluate(0, lfm.test))\n",
    "pd.DataFrame(data=evals,\n",
    "             columns=['recall', 'precision', 'coverage', 'popularity'],\n",
    "             index = [0])"
   ]
  },
  {
   "cell_type": "code",
   "execution_count": null,
   "metadata": {
    "collapsed": true
   },
   "outputs": [],
   "source": []
  }
 ],
 "metadata": {
  "kernelspec": {
   "display_name": "Python 3",
   "language": "python",
   "name": "python3"
  },
  "language_info": {
   "codemirror_mode": {
    "name": "ipython",
    "version": 3
   },
   "file_extension": ".py",
   "mimetype": "text/x-python",
   "name": "python",
   "nbconvert_exporter": "python",
   "pygments_lexer": "ipython3",
   "version": "3.6.1"
  }
 },
 "nbformat": 4,
 "nbformat_minor": 2
}
